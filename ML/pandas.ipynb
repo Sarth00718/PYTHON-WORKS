{
 "cells": [
  {
   "cell_type": "code",
   "execution_count": 26,
   "id": "313ec6e3",
   "metadata": {},
   "outputs": [
    {
     "name": "stdout",
     "output_type": "stream",
     "text": [
      "Series with default index:\n",
      " 0    10\n",
      "1    15\n",
      "2    18\n",
      "3    22\n",
      "dtype: int32\n"
     ]
    }
   ],
   "source": [
    "# Pandas Series Creation Examples\n",
    "import pandas as pd\n",
    "import numpy as np\n",
    "\n",
    "# Creating Series using ndarray\n",
    "arr = np.array([10, 15, 18, 22])\n",
    "s = pd.Series(arr)\n",
    "print(\"Series with default index:\\n\", s)"
   ]
  },
  {
   "cell_type": "code",
   "execution_count": 27,
   "id": "52b2157b",
   "metadata": {},
   "outputs": [
    {
     "name": "stdout",
     "output_type": "stream",
     "text": [
      "Series with custom index:\n",
      " first     a\n",
      "second    b\n",
      "third     c\n",
      "fourth    d\n",
      "dtype: object\n"
     ]
    }
   ],
   "source": [
    "# Creating Series with custom index\n",
    "arr = np.array(['a', 'b', 'c', 'd'])\n",
    "s = pd.Series(arr, index=['first', 'second', 'third', 'fourth'])\n",
    "print(\"Series with custom index:\\n\", s)"
   ]
  },
  {
   "cell_type": "code",
   "execution_count": 28,
   "id": "5e282e3e",
   "metadata": {},
   "outputs": [
    {
     "name": "stdout",
     "output_type": "stream",
     "text": [
      "Series from scalar:\n",
      " a    5\n",
      "b    5\n",
      "c    5\n",
      "dtype: int64\n"
     ]
    }
   ],
   "source": [
    "# Series from scalar value\n",
    "s = pd.Series(5, index=['a', 'b', 'c'])\n",
    "print(\"Series from scalar:\\n\", s)"
   ]
  },
  {
   "cell_type": "code",
   "execution_count": 29,
   "id": "a180defc",
   "metadata": {},
   "outputs": [
    {
     "name": "stdout",
     "output_type": "stream",
     "text": [
      "Series from dictionary:\n",
      " a    10\n",
      "b    20\n",
      "c    30\n",
      "dtype: int64\n"
     ]
    }
   ],
   "source": [
    "# Series from dictionary\n",
    "data = {'a': 10, 'b': 20, 'c': 30}\n",
    "s = pd.Series(data)\n",
    "print(\"Series from dictionary:\\n\", s)"
   ]
  },
  {
   "cell_type": "code",
   "execution_count": 30,
   "id": "f47fbacd",
   "metadata": {},
   "outputs": [
    {
     "name": "stdout",
     "output_type": "stream",
     "text": [
      "Multiplied by 2:\n",
      " 0    2\n",
      "1    4\n",
      "2    6\n",
      "3    8\n",
      "dtype: int64\n",
      "Squared values:\n",
      " 0     1\n",
      "1     4\n",
      "2     9\n",
      "3    16\n",
      "dtype: int64\n",
      "Values > 2:\n",
      " 2    3\n",
      "3    4\n",
      "dtype: int64\n",
      "First 3 rows:\n",
      " 0    1\n",
      "1    2\n",
      "2    3\n",
      "dtype: int64\n",
      "Last 2 rows:\n",
      " 2    3\n",
      "3    4\n",
      "dtype: int64\n",
      "loc[0:2]:\n",
      " 0    1\n",
      "1    2\n",
      "2    3\n",
      "dtype: int64\n",
      "iloc[0:2]:\n",
      " 0    1\n",
      "1    2\n",
      "dtype: int64\n",
      "s[3]: 4\n",
      "s[1:4:2]:\n",
      " 1    2\n",
      "3    4\n",
      "dtype: int64\n"
     ]
    }
   ],
   "source": [
    "# Mathematical Operations on Series\n",
    "s = pd.Series([1, 2, 3, 4])\n",
    "print(\"Multiplied by 2:\\n\", s * 2)\n",
    "print(\"Squared values:\\n\", s ** 2)\n",
    "print(\"Values > 2:\\n\", s[s > 2])\n",
    "\n",
    "# Head and Tail Functions\n",
    "print(\"First 3 rows:\\n\", s.head(3))\n",
    "print(\"Last 2 rows:\\n\", s.tail(2))\n",
    "\n",
    "# Indexing & Selection\n",
    "print(\"loc[0:2]:\\n\", s.loc[0:2])\n",
    "print(\"iloc[0:2]:\\n\", s.iloc[0:2])\n",
    "print(\"s[3]:\", s[3])\n",
    "\n",
    "# Slicing\n",
    "print(\"s[1:4:2]:\\n\", s[1:4:2])\n",
    "\n"
   ]
  },
  {
   "cell_type": "code",
   "execution_count": 31,
   "id": "39c9cece",
   "metadata": {},
   "outputs": [
    {
     "name": "stdout",
     "output_type": "stream",
     "text": [
      "DataFrame from Series:\n",
      "    0\n",
      "0  a\n",
      "1  b\n",
      "2  c\n",
      "3  d\n"
     ]
    }
   ],
   "source": [
    "# DataFrame Creation from Series\n",
    "s = pd.Series(['a', 'b', 'c', 'd'])\n",
    "df = pd.DataFrame(s)\n",
    "\n",
    "print(\"DataFrame from Series:\\n\", df)"
   ]
  },
  {
   "cell_type": "code",
   "execution_count": 32,
   "id": "1a006396",
   "metadata": {},
   "outputs": [
    {
     "name": "stdout",
     "output_type": "stream",
     "text": [
      "DataFrame:\n",
      "           Doj  empid     ename\n",
      "0  12-01-2012    101    Sachin\n",
      "1  15-01-2012    102     Vinod\n",
      "2  05-09-2007    103   Lakhbir\n",
      "3  17-01-2012    104      Anil\n",
      "4  05-09-2007    105  Devinder\n",
      "5  16-01-2012    106  UmaSelvi\n",
      "df.head():\n",
      "           Doj  empid     ename\n",
      "0  12-01-2012    101    Sachin\n",
      "1  15-01-2012    102     Vinod\n",
      "2  05-09-2007    103   Lakhbir\n",
      "3  17-01-2012    104      Anil\n",
      "4  05-09-2007    105  Devinder\n",
      "df.tail():\n",
      "           Doj  empid     ename\n",
      "1  15-01-2012    102     Vinod\n",
      "2  05-09-2007    103   Lakhbir\n",
      "3  17-01-2012    104      Anil\n",
      "4  05-09-2007    105  Devinder\n",
      "5  16-01-2012    106  UmaSelvi\n",
      "df[2:5]:\n",
      "           Doj  empid     ename\n",
      "2  05-09-2007    103   Lakhbir\n",
      "3  17-01-2012    104      Anil\n",
      "4  05-09-2007    105  Devinder\n"
     ]
    }
   ],
   "source": [
    "# DataFrame from Dictionary\n",
    "empdata = {\n",
    "    'Doj': ['12-01-2012', '15-01-2012', '05-09-2007', '17-01-2012', '05-09-2007', '16-01-2012'],\n",
    "    'empid': [101, 102, 103, 104, 105, 106],\n",
    "    'ename': ['Sachin', 'Vinod', 'Lakhbir', 'Anil', 'Devinder', 'UmaSelvi']\n",
    "}\n",
    "df = pd.DataFrame(empdata)\n",
    "print(\"DataFrame:\\n\", df)\n",
    "print(\"df.head():\\n\", df.head())\n",
    "print(\"df.tail():\\n\", df.tail())\n",
    "print(\"df[2:5]:\\n\", df[2:5])\n"
   ]
  },
  {
   "cell_type": "code",
   "execution_count": 33,
   "id": "67948392",
   "metadata": {},
   "outputs": [
    {
     "name": "stdout",
     "output_type": "stream",
     "text": [
      "s[1:4:2]:\n",
      " 1    b\n",
      "3    d\n",
      "dtype: object\n"
     ]
    }
   ],
   "source": [
    "# Slicing\n",
    "print(\"s[1:4:2]:\\n\", s[1:4:2])"
   ]
  },
  {
   "cell_type": "code",
   "execution_count": 34,
   "id": "96ff3949",
   "metadata": {},
   "outputs": [
    {
     "name": "stdout",
     "output_type": "stream",
     "text": [
      "After Adding Columns:\n",
      "    List1  List2  List3\n",
      "0     10     20     30\n",
      "1     15     20     35\n",
      "2     18     20     38\n",
      "3     22     20     42\n"
     ]
    }
   ],
   "source": [
    "# Add and Rename Columns\n",
    "s = pd.Series([10, 15, 18, 22])\n",
    "df = pd.DataFrame(s)\n",
    "df.columns = ['List1']\n",
    "df['List2'] = 20\n",
    "df['List3'] = df['List1'] + df['List2']\n",
    "print(\"After Adding Columns:\\n\", df)\n"
   ]
  },
  {
   "cell_type": "code",
   "execution_count": 35,
   "id": "803961d7",
   "metadata": {},
   "outputs": [
    {
     "name": "stdout",
     "output_type": "stream",
     "text": [
      "After Deleting List3:\n",
      "    List1  List2\n",
      "0     10     20\n",
      "1     15     20\n",
      "2     18     20\n",
      "3     22     20\n",
      "After pop List2:\n",
      "    List1\n",
      "0     10\n",
      "1     15\n",
      "2     18\n",
      "3     22\n"
     ]
    }
   ],
   "source": [
    "# Deleting Columns\n",
    "del df['List3']\n",
    "print(\"After Deleting List3:\\n\", df)\n",
    "df.pop('List2')\n",
    "print(\"After pop List2:\\n\", df)"
   ]
  },
  {
   "cell_type": "code",
   "execution_count": 36,
   "id": "5886e6b1",
   "metadata": {},
   "outputs": [
    {
     "name": "stdout",
     "output_type": "stream",
     "text": [
      "Original DataFrame:\n",
      "    List1  List2\n",
      "0     10     40\n",
      "1     20     40\n",
      "2     30     40\n",
      "3     40     40\n",
      "After Column Deletion:\n",
      "    List1\n",
      "0     10\n",
      "1     20\n",
      "2     30\n",
      "3     40\n",
      "After Row Deletion:\n",
      "    List1  List2\n",
      "0     10     40\n",
      "1     20     40\n"
     ]
    }
   ],
   "source": [
    "# drop() Method\n",
    "s = pd.Series([10, 20, 30, 40])\n",
    "df = pd.DataFrame(s)\n",
    "df.columns = ['List1']\n",
    "df['List2'] = 40\n",
    "df1 = df.drop('List2', axis=1)\n",
    "df2 = df.drop(index=[2, 3], axis=0)\n",
    "print(\"Original DataFrame:\\n\", df)\n",
    "print(\"After Column Deletion:\\n\", df1)\n",
    "print(\"After Row Deletion:\\n\", df2)"
   ]
  },
  {
   "cell_type": "code",
   "execution_count": 37,
   "id": "6c781b13",
   "metadata": {},
   "outputs": [
    {
     "name": "stdout",
     "output_type": "stream",
     "text": [
      "df.loc[0:2]:\n",
      "    List1  List2\n",
      "0     10     40\n",
      "1     20     40\n",
      "2     30     40\n",
      "df.iloc[0:2, 0:1]:\n",
      "    List1\n",
      "0     10\n",
      "1     20\n"
     ]
    }
   ],
   "source": [
    "# loc and iloc\n",
    "print(\"df.loc[0:2]:\\n\", df.loc[0:2])\n",
    "print(\"df.iloc[0:2, 0:1]:\\n\", df.iloc[0:2, 0:1])"
   ]
  },
  {
   "cell_type": "code",
   "execution_count": 38,
   "id": "2aaad4bc",
   "metadata": {},
   "outputs": [
    {
     "name": "stdout",
     "output_type": "stream",
     "text": [
      "Boolean Indexing:\n",
      "    A   B\n",
      "0  1  10\n",
      "2  3  30\n"
     ]
    }
   ],
   "source": [
    "# Boolean Indexing\n",
    "df = pd.DataFrame({'A': [1, 2, 3, 4], 'B': [10, 20, 30, 40]})\n",
    "bool_index = [True, False, True, False]\n",
    "print(\"Boolean Indexing:\\n\", df[bool_index])"
   ]
  },
  {
   "cell_type": "code",
   "execution_count": 39,
   "id": "67d9f065",
   "metadata": {},
   "outputs": [
    {
     "name": "stdout",
     "output_type": "stream",
     "text": [
      "Concatenated DataFrame:\n",
      "     A   B\n",
      "0  A0  B0\n",
      "1  A1  B1\n",
      "0  A2  B2\n",
      "1  A3  B3\n"
     ]
    }
   ],
   "source": [
    "# Concat operation\n",
    "df1 = pd.DataFrame({'A': ['A0', 'A1'], 'B': ['B0', 'B1']})\n",
    "df2 = pd.DataFrame({'A': ['A2', 'A3'], 'B': ['B2', 'B3']})\n",
    "result = pd.concat([df1, df2])\n",
    "print(\"Concatenated DataFrame:\\n\", result)"
   ]
  },
  {
   "cell_type": "code",
   "execution_count": 40,
   "id": "0cb649d1",
   "metadata": {},
   "outputs": [
    {
     "name": "stdout",
     "output_type": "stream",
     "text": [
      "Merged DataFrame:\n",
      "    id   Name  Score\n",
      "0   1  Alice     90\n",
      "1   2    Bob     80\n"
     ]
    }
   ],
   "source": [
    "# Merge operation\n",
    "df1 = pd.DataFrame({'id': [1, 2], 'Name': ['Alice', 'Bob']})\n",
    "df2 = pd.DataFrame({'id': [1, 2], 'Score': [90, 80]})\n",
    "merged = pd.merge(df1, df2, on='id')\n",
    "print(\"Merged DataFrame:\\n\", merged)"
   ]
  },
  {
   "cell_type": "code",
   "execution_count": 41,
   "id": "74be10ef",
   "metadata": {},
   "outputs": [
    {
     "name": "stdout",
     "output_type": "stream",
     "text": [
      "Join with outer:\n",
      "    id    A    B\n",
      "0   1   A0  NaN\n",
      "1   2   A1  NaN\n",
      "2   3   A2   B2\n",
      "3   4  NaN   B3\n",
      "4   5  NaN   B4\n"
     ]
    }
   ],
   "source": [
    "# Join operation\n",
    "df1 = pd.DataFrame({'id': [1, 2, 3], 'A': ['A0', 'A1', 'A2']})\n",
    "df2 = pd.DataFrame({'id': [3, 4, 5], 'B': ['B2', 'B3', 'B4']})\n",
    "joined = pd.merge(df1, df2, how='outer', on='id', suffixes=('_left', '_right'))\n",
    "print(\"Join with outer:\\n\", joined)"
   ]
  },
  {
   "cell_type": "code",
   "execution_count": null,
   "id": "ac465463",
   "metadata": {},
   "outputs": [],
   "source": [
    "# Reading CSV File\n",
    "df = pd.read_csv('Dataframe1.csv')  # File should be in the working directory\n",
    "print(\"Read from CSV:\\n\", df)\n",
    "\n",
    "# Exporting DataFrame to CSV\n",
    "df.to_csv('ExportedDataframe.csv', index=False)"
   ]
  }
 ],
 "metadata": {
  "kernelspec": {
   "display_name": "Python 3",
   "language": "python",
   "name": "python3"
  },
  "language_info": {
   "codemirror_mode": {
    "name": "ipython",
    "version": 3
   },
   "file_extension": ".py",
   "mimetype": "text/x-python",
   "name": "python",
   "nbconvert_exporter": "python",
   "pygments_lexer": "ipython3",
   "version": "3.12.8"
  }
 },
 "nbformat": 4,
 "nbformat_minor": 5
}
