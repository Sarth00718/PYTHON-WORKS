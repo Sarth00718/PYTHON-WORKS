{
 "cells": [
  {
   "cell_type": "code",
   "execution_count": 1,
   "id": "99e93dfb",
   "metadata": {},
   "outputs": [
    {
     "name": "stdout",
     "output_type": "stream",
     "text": [
      "[10 20 30 40 50]\n"
     ]
    }
   ],
   "source": [
    "# Example 1: Basic 1D Array Creation\n",
    "import numpy\n",
    "a = numpy.array([10,20,30,40,50])\n",
    "print(a)"
   ]
  },
  {
   "cell_type": "code",
   "execution_count": 2,
   "id": "2306dc0a",
   "metadata": {},
   "outputs": [
    {
     "name": "stdout",
     "output_type": "stream",
     "text": [
      "[10 20 30 40 50]\n"
     ]
    }
   ],
   "source": [
    "# Example 2: Using np alias\n",
    "import numpy as np\n",
    "a = np.array([10,20,30,40,50])\n",
    "print(a) "
   ]
  },
  {
   "cell_type": "code",
   "execution_count": 3,
   "id": "8f04234a",
   "metadata": {},
   "outputs": [
    {
     "name": "stdout",
     "output_type": "stream",
     "text": [
      "[10 20 30 40 50]\n"
     ]
    }
   ],
   "source": [
    "# Example 3: Using from numpy import *\n",
    "from numpy import *\n",
    "a=array([10, 20,30,40,50])\n",
    "print(a)"
   ]
  },
  {
   "cell_type": "code",
   "execution_count": 4,
   "id": "71a49dac",
   "metadata": {},
   "outputs": [
    {
     "name": "stdout",
     "output_type": "stream",
     "text": [
      "[ 10.   30.   40.5  50.  100. ]\n"
     ]
    }
   ],
   "source": [
    "# Example 4: Array with mixed data types (converts to float)\n",
    "from numpy import array\n",
    "a = array([10,30,40.5, 50,100])\n",
    "print(a)"
   ]
  },
  {
   "cell_type": "code",
   "execution_count": 5,
   "id": "69a22148",
   "metadata": {},
   "outputs": [
    {
     "name": "stdout",
     "output_type": "stream",
     "text": [
      "[ 1.  2.  3.  4.  5.  6.  7.  8.  9. 10.]\n"
     ]
    }
   ],
   "source": [
    "# Example 5: Creating evenly spaced array\n",
    "import numpy as np\n",
    "a = np.linspace(1,10,10)\n",
    "print(a)"
   ]
  },
  {
   "cell_type": "code",
   "execution_count": 6,
   "id": "75a5e109",
   "metadata": {},
   "outputs": [
    {
     "name": "stdout",
     "output_type": "stream",
     "text": [
      "[0 1 2 3 4 5 6 7 8 9]\n",
      "[5 6 7 8 9]\n",
      "[10  9  8  7  6  5  4  3  2]\n"
     ]
    }
   ],
   "source": [
    "# Example 6: Different arange() usage\n",
    "import numpy as np\n",
    "a = np.arange(10)\n",
    "b = np.arange(5,10)\n",
    "c = np.arange(10,1,-1)\n",
    "print(a)\n",
    "print(b)\n",
    "print(c)"
   ]
  },
  {
   "cell_type": "code",
   "execution_count": 7,
   "id": "cef29144",
   "metadata": {},
   "outputs": [
    {
     "name": "stdout",
     "output_type": "stream",
     "text": [
      "[0. 0. 0. 0. 0.]\n",
      "[1. 1. 1. 1. 1.]\n"
     ]
    }
   ],
   "source": [
    "# Example 7: Creating arrays with zeros and ones\n",
    "import numpy as np\n",
    "K = np.zeros(5)\n",
    "R = np.ones(5)\n",
    "print(K)\n",
    "print(R)"
   ]
  },
  {
   "cell_type": "code",
   "execution_count": 8,
   "id": "37acc943",
   "metadata": {},
   "outputs": [
    {
     "name": "stdout",
     "output_type": "stream",
     "text": [
      "[15 25 35 45 55]\n",
      "[10 20 30 40 50]\n",
      "[ 50 100 150 200 250]\n",
      "[10. 20. 30. 40. 50.]\n"
     ]
    }
   ],
   "source": [
    "# Example 8: Basic mathematical operations\n",
    "import numpy as np\n",
    "K = np.array([10, 20, 30, 40,50])\n",
    "\n",
    "K = K+5\n",
    "print(K)\n",
    "K = K-5\n",
    "print(K)\n",
    "K = K*5\n",
    "print(K)\n",
    "K = K/5\n",
    "print(K)\n"
   ]
  },
  {
   "cell_type": "code",
   "execution_count": 9,
   "id": "d8ee5cf7",
   "metadata": {},
   "outputs": [
    {
     "name": "stdout",
     "output_type": "stream",
     "text": [
      "[3 5 6 7 8]\n",
      "[3 5 6 7 8]\n",
      "[3 5 6 7 8]\n",
      "[45  5  6  7  8]\n",
      "[45  5  6  7  8]\n"
     ]
    }
   ],
   "source": [
    "# Example 9: Aliasing arrays (reference)\n",
    "import numpy as np\n",
    "k = np.array([3, 5, 6,7,8])\n",
    "print(k)\n",
    "# Give another name h to array k\n",
    "h = k\n",
    "print(h)\n",
    "print(k)\n",
    "k[0] = 45\n",
    "print(h)\n",
    "print(k)"
   ]
  },
  {
   "cell_type": "code",
   "execution_count": 10,
   "id": "2fde1e93",
   "metadata": {},
   "outputs": [
    {
     "name": "stdout",
     "output_type": "stream",
     "text": [
      "[3 5 6 7 8]\n",
      "[3 5 6 7 8]\n",
      "[3 5 6 7 8]\n",
      "[3 5 6 7 8]\n",
      "[45  5  6  7  8]\n"
     ]
    }
   ],
   "source": [
    "# Example 10: Using copy() method\n",
    "import numpy as np\n",
    "k = np.array([3,5,6,7,8])\n",
    "print(k)\n",
    "# Create a copy of array k and call it h\n",
    "h = k.copy()\n",
    "print(h)\n",
    "print(k)\n",
    "k[0] = 45\n",
    "print(h)\n",
    "print(k)"
   ]
  },
  {
   "cell_type": "code",
   "execution_count": 11,
   "id": "9887ec96",
   "metadata": {},
   "outputs": [
    {
     "name": "stdout",
     "output_type": "stream",
     "text": [
      "[[ 2  4  6]\n",
      " [ 6  8 10]]\n"
     ]
    }
   ],
   "source": [
    "# Example 11: Creating 2D array\n",
    "import numpy as np\n",
    "x = np.array([[2,4,6],[6,8,10]])\n",
    "print(x)"
   ]
  },
  {
   "cell_type": "code",
   "execution_count": 12,
   "id": "a9ee0c99",
   "metadata": {},
   "outputs": [
    {
     "name": "stdout",
     "output_type": "stream",
     "text": [
      "1\n",
      "2\n"
     ]
    }
   ],
   "source": [
    "# Example 12: ndim attribute (number of dimensions)\n",
    "import numpy as np\n",
    "A = np.array([5,6,7,8])\n",
    "R = np.array([[4,5,6],[7,8,9]])\n",
    "print(A.ndim)  # Number of dimensions in array A\n",
    "print(R.ndim)  # Number of dimensions in array R"
   ]
  },
  {
   "cell_type": "code",
   "execution_count": 13,
   "id": "e7e0c58a",
   "metadata": {},
   "outputs": [
    {
     "name": "stdout",
     "output_type": "stream",
     "text": [
      "(5,)\n",
      "(2, 3)\n"
     ]
    }
   ],
   "source": [
    "# Example 13: shape attribute\n",
    "import numpy as np\n",
    "k = np.array([1,2,3,4,5])\n",
    "print(k.shape)  # Number of elements in array k\n",
    "d = np.array([[5,6,7],[7,8,9]])\n",
    "print(d.shape)  # Number of rows and columns in array d"
   ]
  },
  {
   "cell_type": "code",
   "execution_count": 14,
   "id": "595eefb0",
   "metadata": {},
   "outputs": [
    {
     "name": "stdout",
     "output_type": "stream",
     "text": [
      "5\n"
     ]
    }
   ],
   "source": [
    "import numpy as np\n",
    "a1 = np.array([1,2,3,4,5])\n",
    "print(a1.size)  # Total number of element"
   ]
  },
  {
   "cell_type": "code",
   "execution_count": 15,
   "id": "37fdd984",
   "metadata": {},
   "outputs": [
    {
     "name": "stdout",
     "output_type": "stream",
     "text": [
      "6\n"
     ]
    }
   ],
   "source": [
    "# For 2D array\n",
    "import numpy as np\n",
    "k = np.array([[5,6,7],[7,8,9]])\n",
    "print(k.size)  # Total elements (rows * columns)"
   ]
  },
  {
   "cell_type": "code",
   "execution_count": 16,
   "id": "d9f9e5d4",
   "metadata": {},
   "outputs": [
    {
     "name": "stdout",
     "output_type": "stream",
     "text": [
      "8\n"
     ]
    }
   ],
   "source": [
    "# Example 15: itemsize attribute\n",
    "import numpy as np\n",
    "a1 = np.array([1,2,3,4,5])\n",
    "print(a1.itemsize)  # Memory size of array elements in bytes"
   ]
  },
  {
   "cell_type": "code",
   "execution_count": 17,
   "id": "d2603d2d",
   "metadata": {},
   "outputs": [
    {
     "name": "stdout",
     "output_type": "stream",
     "text": [
      "[[4 5 6 7]\n",
      " [5 6 7 8]\n",
      " [7 8 9 6]]\n",
      "[[4 5]\n",
      " [6 7]\n",
      " [5 6]\n",
      " [7 8]\n",
      " [7 8]\n",
      " [9 6]]\n",
      "[[4 5 6 7 5 6 7 8 7 8 9 6]]\n",
      "[[4]\n",
      " [5]\n",
      " [6]\n",
      " [7]\n",
      " [5]\n",
      " [6]\n",
      " [7]\n",
      " [8]\n",
      " [7]\n",
      " [8]\n",
      " [9]\n",
      " [6]]\n"
     ]
    }
   ],
   "source": [
    "# Example 16: Reshaping arrays\n",
    "import numpy as np\n",
    "d = np.array([[4,5,6,7],[5,6,7,8],[7,8,9,6]])\n",
    "print(d)\n",
    "# Reshape array d to 6 rows and 2 columns\n",
    "d = d.reshape(6,2)\n",
    "print(d)\n",
    "# Reshape array d to 1 row and 12 columns\n",
    "d = d.reshape(1,12)\n",
    "print(d)\n",
    "# Reshape array d to 12 rows and 1 column\n",
    "d = d.reshape(12,1)\n",
    "print(d)"
   ]
  },
  {
   "cell_type": "code",
   "execution_count": 18,
   "id": "99c45f49",
   "metadata": {},
   "outputs": [
    {
     "name": "stdout",
     "output_type": "stream",
     "text": [
      "[[5 6]\n",
      " [7 7]\n",
      " [8 9]]\n",
      "[[4.67296746e-307 1.69121096e-306 4.00535364e-307 8.34441742e-308]\n",
      " [1.78022342e-306 6.23058028e-307 9.79107872e-307 6.89807188e-307]\n",
      " [7.56594375e-307 6.23060065e-307 1.78021527e-306 8.34454050e-308]\n",
      " [1.11261027e-306 1.15706896e-306 1.33512173e-306 1.33504432e-306]]\n"
     ]
    }
   ],
   "source": [
    "# Example 17: Creating empty arrays\n",
    "import numpy as np\n",
    "x = np.empty([3,2], dtype = int)\n",
    "y = np.empty([4,4], dtype = float)\n",
    "print(x)\n",
    "print(y)"
   ]
  },
  {
   "cell_type": "code",
   "execution_count": 19,
   "id": "0d9cbbb3",
   "metadata": {},
   "outputs": [
    {
     "name": "stdout",
     "output_type": "stream",
     "text": [
      "[[1. 0. 0.]\n",
      " [0. 1. 0.]\n",
      " [0. 0. 1.]]\n"
     ]
    }
   ],
   "source": [
    "# Example 18: Creating identity matrix\n",
    "import numpy\n",
    "a = numpy.eye(3)\n",
    "print(a)"
   ]
  },
  {
   "cell_type": "code",
   "execution_count": 20,
   "id": "c4c14505",
   "metadata": {},
   "outputs": [
    {
     "name": "stdout",
     "output_type": "stream",
     "text": [
      "[[0 0]\n",
      " [0 0]\n",
      " [0 0]]\n",
      "[[0. 0. 0. 0.]\n",
      " [0. 0. 0. 0.]\n",
      " [0. 0. 0. 0.]\n",
      " [0. 0. 0. 0.]]\n"
     ]
    }
   ],
   "source": [
    "# Example 19: zeros() function for 2D\n",
    "import numpy\n",
    "Q = numpy.zeros([3,2], dtype = int)\n",
    "Z = numpy.zeros([4,4], dtype = float)\n",
    "print(Q)\n",
    "print(Z)"
   ]
  },
  {
   "cell_type": "code",
   "execution_count": 21,
   "id": "bc0a4e2f",
   "metadata": {},
   "outputs": [
    {
     "name": "stdout",
     "output_type": "stream",
     "text": [
      "[[1 1]\n",
      " [1 1]\n",
      " [1 1]]\n",
      "[[1. 1. 1. 1.]\n",
      " [1. 1. 1. 1.]\n",
      " [1. 1. 1. 1.]\n",
      " [1. 1. 1. 1.]]\n"
     ]
    }
   ],
   "source": [
    "# Example 20: ones() function for 2D\n",
    "import numpy\n",
    "Q = numpy.ones([3,2], dtype = int)\n",
    "Z = numpy.ones([4,4], dtype = float)\n",
    "print(Q)\n",
    "print(Z)"
   ]
  },
  {
   "cell_type": "code",
   "execution_count": 22,
   "id": "e6fa8edf",
   "metadata": {},
   "outputs": [
    {
     "name": "stdout",
     "output_type": "stream",
     "text": [
      "[ 2  3  4 50  8  9 10 11 15]\n"
     ]
    }
   ],
   "source": [
    "# Example 21: concatenate() function\n",
    "import numpy as np\n",
    "a = np.array([2,3,4,50])\n",
    "b = np.array([8, 9,10,11,15])\n",
    "c = np.concatenate([a,b])\n",
    "print(c)"
   ]
  },
  {
   "cell_type": "code",
   "execution_count": 23,
   "metadata": {},
   "outputs": [
    {
     "name": "stdout",
     "output_type": "stream",
     "text": [
      "[[2 3 4 2 3 4]\n",
      " [4 5 6 4 5 6]\n",
      " [7 8 9 7 8 9]]\n"
     ]
    }
   ],
   "source": [
    "# Example 22: concatenate() column-wise\n",
    "import numpy as np\n",
    "a = np.array([[2,3,4],[4,5,6],[7,8,9]])\n",
    "b = np.concatenate([a,a], axis=1)  # concatenate array a with array a column wise\n",
    "print(b)"
   ]
  },
  {
   "cell_type": "code",
   "execution_count": 24,
   "id": "0e70d346",
   "metadata": {},
   "outputs": [
    {
     "name": "stdout",
     "output_type": "stream",
     "text": [
      "[[2 3 4]\n",
      " [4 5 6]\n",
      " [7 8 9]\n",
      " [2 3 4]\n",
      " [4 5 6]\n",
      " [7 8 9]]\n"
     ]
    }
   ],
   "source": [
    "# Example 23: concatenate() row-wise\n",
    "import numpy as np\n",
    "a = np.array([[2,3,4],[4,5,6],[7,8,9]])\n",
    "b = np.concatenate([a,a], axis=0)  # concatenate array a with array a row wise\n",
    "print(b)"
   ]
  },
  {
   "cell_type": "code",
   "execution_count": 25,
   "id": "6ce4fee2",
   "metadata": {},
   "outputs": [
    {
     "name": "stdout",
     "output_type": "stream",
     "text": [
      "[ 1  2  3 10 11 12]\n"
     ]
    }
   ],
   "source": [
    "# Example 24: hstack() - horizontal stacking\n",
    "import numpy as np\n",
    "a = np.array([1,2,3])\n",
    "b = np.array([10,11,12])\n",
    "c = np.hstack((a,b))\n",
    "print(c)"
   ]
  },
  {
   "cell_type": "code",
   "execution_count": 26,
   "id": "263d5dad",
   "metadata": {},
   "outputs": [
    {
     "name": "stdout",
     "output_type": "stream",
     "text": [
      "[[ 1  2  3]\n",
      " [10 11 12]]\n"
     ]
    }
   ],
   "source": [
    "# Example 25: vstack() - vertical stacking\n",
    "import numpy as np\n",
    "a = np.array([1,2,3])\n",
    "b = np.array([10,11,12])\n",
    "c = np.vstack((a,b))\n",
    "print(c)"
   ]
  },
  {
   "cell_type": "code",
   "execution_count": 27,
   "id": "9786e884",
   "metadata": {},
   "outputs": [
    {
     "name": "stdout",
     "output_type": "stream",
     "text": [
      "[1 2 3] [99 99] [3 2 1]\n"
     ]
    }
   ],
   "source": [
    "# Example 26: split() function\n",
    "import numpy as np\n",
    "x = [1, 2, 3, 99, 99, 3, 2, 1]\n",
    "x1, x2, x3 = np.split(x, [3, 5])  # split array into 3 subsets like- [0 : 3], [3 : 5] and [5 : ]\n",
    "print(x1, x2, x3)"
   ]
  },
  {
   "cell_type": "code",
   "execution_count": 28,
   "id": "64b2d789",
   "metadata": {},
   "outputs": [
    {
     "name": "stdout",
     "output_type": "stream",
     "text": [
      "[[ 0  1  2  3]\n",
      " [ 4  5  6  7]\n",
      " [ 8  9 10 11]\n",
      " [12 13 14 15]]\n",
      "[[ 0  1]\n",
      " [ 4  5]\n",
      " [ 8  9]\n",
      " [12 13]]\n",
      "[[ 2  3]\n",
      " [ 6  7]\n",
      " [10 11]\n",
      " [14 15]]\n"
     ]
    }
   ],
   "source": [
    "# Example 27: hsplit() - horizontal splitting\n",
    "import numpy as np\n",
    "a = np.arange(16).reshape((4, 4))\n",
    "print(a)\n",
    "left, right = np.hsplit(a, 2)\n",
    "print(left)\n",
    "print(right)"
   ]
  },
  {
   "cell_type": "code",
   "execution_count": 29,
   "id": "a9c90b6e",
   "metadata": {},
   "outputs": [
    {
     "name": "stdout",
     "output_type": "stream",
     "text": [
      "[[ 0  1  2  3]\n",
      " [ 4  5  6  7]\n",
      " [ 8  9 10 11]\n",
      " [12 13 14 15]]\n",
      "[[0 1 2 3]\n",
      " [4 5 6 7]]\n",
      "[[ 8  9 10 11]\n",
      " [12 13 14 15]]\n"
     ]
    }
   ],
   "source": [
    "# Example 28: vsplit() - vertical splitting\n",
    "import numpy as np\n",
    "a = np.arange(16).reshape((4, 4))\n",
    "print(a)\n",
    "top, bottom = np.vsplit(a, 2)\n",
    "print(top)\n",
    "print(bottom)"
   ]
  },
  {
   "cell_type": "code",
   "execution_count": 30,
   "id": "77c413dc",
   "metadata": {},
   "outputs": [
    {
     "name": "stdout",
     "output_type": "stream",
     "text": [
      "\n",
      "Original array1:\n",
      "[0 1 2]\n",
      "\n",
      "Original array2:\n",
      "[2 1 0]\n",
      "\n",
      "Covariance matrix of the said arrays:\n",
      " [[ 1. -1.]\n",
      " [-1.  1.]]\n"
     ]
    }
   ],
   "source": [
    "# Example 29: Covariance calculation\n",
    "import numpy as np\n",
    "x = np.array([0,1,2])\n",
    "y = np.array([2,1,0])\n",
    "print(\"\\nOriginal array1:\")\n",
    "print(x)\n",
    "print(\"\\nOriginal array2:\")\n",
    "print(y)\n",
    "print(\"\\nCovariance matrix of the said arrays:\\n\", np.cov(x, y))"
   ]
  },
  {
   "cell_type": "code",
   "execution_count": 31,
   "id": "0797d272",
   "metadata": {},
   "outputs": [
    {
     "name": "stdout",
     "output_type": "stream",
     "text": [
      "Mean:  35.0\n",
      "Std:  17.07825127659933\n",
      "Var:  291.6666666666667\n",
      "Sum:  210\n",
      "Prod:  720000000\n"
     ]
    }
   ],
   "source": [
    "# Example 30: statistics\n",
    "import numpy as np\n",
    "\n",
    "array1 = np.array([[10, 20, 30], [40, 50, 60]])\n",
    "\n",
    "print(\"Mean: \", np.mean(array1))       # Avg of all elements\n",
    "print(\"Std: \", np.std(array1))         # Standard deviation\n",
    "print(\"Var: \", np.var(array1))         # Variance\n",
    "print(\"Sum: \", np.sum(array1))         # Sum of all elements\n",
    "print(\"Prod: \", np.prod(array1))       # Product of all elements"
   ]
  }
 ],
 "metadata": {
  "kernelspec": {
   "display_name": "Python 3",
   "language": "python",
   "name": "python3"
  },
  "language_info": {
   "codemirror_mode": {
    "name": "ipython",
    "version": 3
   },
   "file_extension": ".py",
   "mimetype": "text/x-python",
   "name": "python",
   "nbconvert_exporter": "python",
   "pygments_lexer": "ipython3",
   "version": "3.12.8"
  }
 },
 "nbformat": 4,
 "nbformat_minor": 5
}
