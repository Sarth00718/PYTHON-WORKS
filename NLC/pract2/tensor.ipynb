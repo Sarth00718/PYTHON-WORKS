{
 "cells": [
  {
   "cell_type": "code",
   "execution_count": 1,
   "id": "d0067c1c",
   "metadata": {},
   "outputs": [],
   "source": [
    "import torch\n",
    "import numpy as np\n",
    "\n",
    "# Create tensor directly from data (list of lists)\n",
    "data = [[1, 2], [3, 4]]\n",
    "x_data = torch.tensor(data)\n",
    "\n",
    "# Create tensor from a NumPy array\n",
    "np_array = np.array(data)\n",
    "x_np = torch.from_numpy(np_array)"
   ]
  },
  {
   "cell_type": "code",
   "execution_count": 2,
   "id": "32d67b39",
   "metadata": {},
   "outputs": [
    {
     "name": "stdout",
     "output_type": "stream",
     "text": [
      "Ones Tensor: \n",
      "tensor([[1, 1],\n",
      "        [1, 1]])\n",
      "\n",
      "Random Tensor: \n",
      "tensor([[0.5492, 0.4933],\n",
      "        [0.8660, 0.5481]])\n",
      "\n",
      "Random Tensor: \n",
      "tensor([[0.4254, 0.6972, 0.5944],\n",
      "        [0.4907, 0.4112, 0.2073]])\n",
      "\n",
      "Ones Tensor: \n",
      "tensor([[1., 1., 1.],\n",
      "        [1., 1., 1.]])\n",
      "\n",
      "Zeros Tensor: \n",
      "tensor([[0., 0., 0.],\n",
      "        [0., 0., 0.]])\n",
      "\n"
     ]
    }
   ],
   "source": [
    "# Create a tensor from another tensor (same shape & dtype)\n",
    "x_ones = torch.ones_like(x_data)  # fills with 1s\n",
    "print(f\"Ones Tensor: \\n{x_ones}\\n\")\n",
    "\n",
    "# Create random tensor with same shape, overriding dtype\n",
    "x_rand = torch.rand_like(x_data, dtype=torch.float)\n",
    "print(f\"Random Tensor: \\n{x_rand}\\n\")\n",
    "\n",
    "# Create tensor with specified shape and values\n",
    "shape = (2, 3)\n",
    "rand_tensor = torch.rand(shape)    # random values between 0 and 1\n",
    "ones_tensor = torch.ones(shape)    # all 1s\n",
    "zeros_tensor = torch.zeros(shape)  # all 0s\n",
    "\n",
    "print(f\"Random Tensor: \\n{rand_tensor}\\n\")\n",
    "print(f\"Ones Tensor: \\n{ones_tensor}\\n\")\n",
    "print(f\"Zeros Tensor: \\n{zeros_tensor}\\n\")"
   ]
  },
  {
   "cell_type": "markdown",
   "id": "e81a1f3f",
   "metadata": {},
   "source": [
    "Attributes of a Tensor"
   ]
  },
  {
   "cell_type": "code",
   "execution_count": 3,
   "id": "9afbec98",
   "metadata": {},
   "outputs": [
    {
     "name": "stdout",
     "output_type": "stream",
     "text": [
      "Shape of tensor: torch.Size([3, 4])\n",
      "Datatype of tensor: torch.float32\n",
      "Device tensor is stored on: cpu\n"
     ]
    }
   ],
   "source": [
    "\n",
    "tensor = torch.rand(3, 4)  # shape = (3,4)\n",
    "\n",
    "print(f\"Shape of tensor: {tensor.shape}\")\n",
    "print(f\"Datatype of tensor: {tensor.dtype}\")\n",
    "print(f\"Device tensor is stored on: {tensor.device}\")"
   ]
  },
  {
   "cell_type": "markdown",
   "id": "8db7f5b9",
   "metadata": {},
   "source": [
    "Oprations on Tensors"
   ]
  },
  {
   "cell_type": "code",
   "execution_count": 4,
   "id": "165aa234",
   "metadata": {},
   "outputs": [
    {
     "name": "stdout",
     "output_type": "stream",
     "text": [
      "First row: tensor([1., 1., 1., 1.])\n",
      "First column: tensor([1., 1., 1., 1.])\n",
      "Last column: tensor([1., 1., 1., 1.])\n",
      "tensor([[1., 0., 1., 1.],\n",
      "        [1., 0., 1., 1.],\n",
      "        [1., 0., 1., 1.],\n",
      "        [1., 0., 1., 1.]])\n"
     ]
    }
   ],
   "source": [
    "# Indexing and slicing \n",
    "tensor = torch.ones(4, 4)\n",
    "print(f\"First row: {tensor[0]}\")\n",
    "print(f\"First column: {tensor[:, 0]}\")\n",
    "print(f\"Last column: {tensor[..., -1]}\")\n",
    "\n",
    "# Modify second column to all 0s\n",
    "tensor[:, 1] = 0\n",
    "print(tensor)"
   ]
  },
  {
   "cell_type": "code",
   "execution_count": 5,
   "id": "a89eef3e",
   "metadata": {},
   "outputs": [
    {
     "name": "stdout",
     "output_type": "stream",
     "text": [
      "Concatenated Tensor:\n",
      "tensor([[1., 0., 1., 1., 1., 0., 1., 1., 1., 0., 1., 1.],\n",
      "        [1., 0., 1., 1., 1., 0., 1., 1., 1., 0., 1., 1.],\n",
      "        [1., 0., 1., 1., 1., 0., 1., 1., 1., 0., 1., 1.],\n",
      "        [1., 0., 1., 1., 1., 0., 1., 1., 1., 0., 1., 1.]])\n"
     ]
    }
   ],
   "source": [
    "#Jointing tensors (concatenate): column dim=1  row dim=0\n",
    "t1 = torch.cat([tensor, tensor, tensor], dim=1)\n",
    "print(f\"Concatenated Tensor:\\n{t1}\")"
   ]
  },
  {
   "cell_type": "code",
   "execution_count": 14,
   "id": "882ef1f8",
   "metadata": {},
   "outputs": [
    {
     "data": {
      "text/plain": [
       "tensor([[ 5., 11., 17.],\n",
       "        [11., 25., 39.],\n",
       "        [17., 39., 61.]])"
      ]
     },
     "execution_count": 14,
     "metadata": {},
     "output_type": "execute_result"
    }
   ],
   "source": [
    "import torch\n",
    "\n",
    "tensor = torch.tensor([[1., 2.],\n",
    "                       [3., 4.],\n",
    "                       [5., 6.]])\n",
    "y1 = tensor @ tensor.T\n",
    "y2 = tensor.matmul(tensor.T)\n",
    "y3 = torch.rand_like(y1)\n",
    "\n",
    "torch.matmul(tensor, tensor.T, out=y3)  "
   ]
  },
  {
   "cell_type": "code",
   "execution_count": 7,
   "id": "e63ce2c1",
   "metadata": {},
   "outputs": [
    {
     "data": {
      "text/plain": [
       "tensor([[ 1.,  4.],\n",
       "        [ 9., 16.],\n",
       "        [25., 36.]])"
      ]
     },
     "execution_count": 7,
     "metadata": {},
     "output_type": "execute_result"
    }
   ],
   "source": [
    "\n",
    "# Element-wise multiplication\n",
    "z1 = tensor * tensor                 \n",
    "z2 = tensor.mul(tensor)            \n",
    "z3 = torch.rand_like(tensor)\n",
    "torch.mul(tensor, tensor, out=z3)   "
   ]
  },
  {
   "cell_type": "markdown",
   "id": "0c92aa85",
   "metadata": {},
   "source": [
    "Single-element Tensor to Python Number"
   ]
  },
  {
   "cell_type": "code",
   "execution_count": 18,
   "id": "0e1b5c4e",
   "metadata": {},
   "outputs": [
    {
     "name": "stdout",
     "output_type": "stream",
     "text": [
      "21.0 <class 'float'>\n"
     ]
    }
   ],
   "source": [
    "\n",
    "agg = tensor.sum()           # aggregate: sum all elements\n",
    "agg_item = agg.item()        # convert single-element tensor to Python float\n",
    "print(agg_item, type(agg_item))\n"
   ]
  },
  {
   "cell_type": "code",
   "execution_count": 9,
   "id": "684e6ba6",
   "metadata": {},
   "outputs": [
    {
     "name": "stdout",
     "output_type": "stream",
     "text": [
      "Before in-place add:\n",
      " tensor([[1., 2.],\n",
      "        [3., 4.],\n",
      "        [5., 6.]])\n",
      "After in-place add:\n",
      " tensor([[ 6.,  7.],\n",
      "        [ 8.,  9.],\n",
      "        [10., 11.]])\n"
     ]
    }
   ],
   "source": [
    "print(\"Before in-place add:\\n\", tensor)\n",
    "tensor.add_(5)  # in-place addition: adds 5 to every element\n",
    "print(\"After in-place add:\\n\", tensor)"
   ]
  },
  {
   "cell_type": "markdown",
   "id": "e7ea3ef5",
   "metadata": {},
   "source": [
    "Bridge with NumPy"
   ]
  },
  {
   "cell_type": "code",
   "execution_count": 19,
   "id": "cae7b4c0",
   "metadata": {},
   "outputs": [
    {
     "name": "stdout",
     "output_type": "stream",
     "text": [
      "Tensor t: tensor([1., 1., 1., 1., 1.])\n",
      "NumPy n: [1. 1. 1. 1. 1.]\n",
      "After t.add_(1), t: tensor([2., 2., 2., 2., 2.])\n",
      "n: [2. 2. 2. 2. 2.]\n"
     ]
    }
   ],
   "source": [
    "# Tensor to NumPy array (shares memory)\n",
    "t = torch.ones(5)\n",
    "print(f\"Tensor t: {t}\")\n",
    "n = t.numpy()\n",
    "print(f\"NumPy n: {n}\")\n",
    "\n",
    "# Change tensor, NumPy reflects change\n",
    "t.add_(1)\n",
    "print(f\"After t.add_(1), t: {t}\")\n",
    "print(f\"n: {n}\")"
   ]
  },
  {
   "cell_type": "code",
   "execution_count": 22,
   "id": "2af225d6",
   "metadata": {},
   "outputs": [
    {
     "name": "stdout",
     "output_type": "stream",
     "text": [
      "t: tensor([2., 2., 2., 2., 2.], dtype=torch.float64)\n",
      "n: [2. 2. 2. 2. 2.]\n"
     ]
    }
   ],
   "source": [
    "# NumPy to Tensor (also shares memory)\n",
    "n = np.ones(5)\n",
    "t = torch.from_numpy(n)\n",
    "\n",
    "# Change NumPy array, tensor reflects change\n",
    "np.add(n, 1, out=n)\n",
    "print(f\"t: {t}\")\n",
    "print(f\"n: {n}\")"
   ]
  }
 ],
 "metadata": {
  "kernelspec": {
   "display_name": "Python 3",
   "language": "python",
   "name": "python3"
  },
  "language_info": {
   "codemirror_mode": {
    "name": "ipython",
    "version": 3
   },
   "file_extension": ".py",
   "mimetype": "text/x-python",
   "name": "python",
   "nbconvert_exporter": "python",
   "pygments_lexer": "ipython3",
   "version": "3.12.8"
  }
 },
 "nbformat": 4,
 "nbformat_minor": 5
}
