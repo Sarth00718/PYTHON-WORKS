{
 "cells": [
  {
   "cell_type": "code",
   "execution_count": 4,
   "metadata": {},
   "outputs": [
    {
     "name": "stdout",
     "output_type": "stream",
     "text": [
      "Shapes (120, 4) (120,) (30, 4) (30,)\n",
      "[[6.3 2.5 4.9 1.5]\n",
      " [6.3 3.4 5.6 2.4]\n",
      " [7.7 2.6 6.9 2.3]]\n"
     ]
    }
   ],
   "source": [
    "import numpy as np\n",
    "import pandas as pd\n",
    "from sklearn.model_selection import train_test_split\n",
    "\n",
    "data = pd.read_csv(\"Iris.csv\", header='infer').values\n",
    "x = data[:, 1:-1]\n",
    "y = data[:, -1]\n",
    "\n",
    "x_train, x_test, y_train, y_test = train_test_split(x, y, test_size=0.2, stratify=y)\n",
    "print(\"Shapes\", x_train.shape, y_train.shape, x_test.shape, y_test.shape)\n",
    "\n",
    "k = int(input(\"Enter the number of clusters you want to divide your data into (k): \"))\n",
    "n = int(input(\"Enter the number of iterations: \"))  \n",
    "\n",
    "per = np.random.permutation(x_train.shape[0])\n",
    "centroid = np.zeros(shape=(k, x_train.shape[1]))\n",
    "\n",
    "for i in range(k):\n",
    "    centroid[i, :] = x_train[per[i], :]\n",
    "print(centroid)"
   ]
  },
  {
   "cell_type": "markdown",
   "metadata": {},
   "source": []
  },
  {
   "cell_type": "code",
   "execution_count": 16,
   "metadata": {},
   "outputs": [
    {
     "name": "stdout",
     "output_type": "stream",
     "text": [
      "[1 1 1 1 1 1 1 1 1 1 1 1 1 1 1 1 1 1 1 1 1 1 1 1 1 1 1 1 1 1 1 1 1 1 1 1 1\n",
      " 1 1 1 1 1 1 1 1 1 1 1 1 1 1 1 1 1 1 1 1 1 1 1 1 1 1 1 1 1 1 1 1 1 1 1 1 1\n",
      " 1 1 1 1 1 1 1 1 1 1 1 1 1 1 1 1 1 1 1 1 1 1 1 1 1 1 1 1 1 1 1 1 1 1 1 1 1\n",
      " 1 1 1 1 1 1 1 1 1]\n",
      "[2 2 2 2 2 2 2 2 2 2 2 2 2 2 2 2 2 2 2 2 2 2 2 2 2 2 2 2 2 2 2 2 2 2 2 2 2\n",
      " 2 2 2 2 2 2 2 2 2 2 2 2 2 2 2 2 2 2 2 2 2 2 2 2 2 2 2 2 2 2 2 2 2 2 2 2 2\n",
      " 2 2 2 2 2 2 2 2 2 2 2 2 2 2 2 2 2 2 2 2 2 2 2 2 2 2 2 2 2 2 2 2 2 2 2 2 2\n",
      " 2 2 2 2 2 2 2 2 2]\n",
      "[1 1 1 1 1 0 1 2 1 0 2 1 0 1 0 0 0 2 2 1 0 1 0 0 2 0 2 2 0 1 0 1 2 2 0 2 2\n",
      " 0 1 0 1 2 0 2 1 1 0 1 1 2 1 0 1 1 1 2 0 1 0 1 1 1 2 1 1 0 0 1 0 2 0 0 1 1\n",
      " 0 2 2 1 2 1 1 1 1 2 1 0 0 1 0 0 0 0 0 0 1 1 1 1 2 2 1 2 1 1 0 1 1 2 2 0 1\n",
      " 2 0 0 2 1 2 0 0 1]\n",
      "Centroid after 1 iterations:\n",
      "[[4.9975     3.415      1.4525     0.235     ]\n",
      " [5.92941176 2.77647059 4.4372549  1.44901961]\n",
      " [6.84137931 3.06551724 5.72758621 2.07931034]]\n"
     ]
    }
   ],
   "source": [
    "for _ in range(n):\n",
    "    dist = np.zeros(shape=(k, x_train.shape[0]))\n",
    "    \n",
    "    for i in range(k):\n",
    "        dist[i, :] = np.sqrt(np.sum((x_train - centroid[i, :]) ** 2, axis=1))   \n",
    "        membership = np.argmin(dist, axis=0)\n",
    "        print(membership)\n",
    "\n",
    "for i in range(k):\n",
    "    centroid[i, :] = np.mean(x_train[membership == i, :], axis=0)\n",
    "\n",
    "print(\"Centroid after \" + str(n) + \" iterations:\")\n",
    "print(centroid)"
   ]
  },
  {
   "cell_type": "code",
   "execution_count": 6,
   "metadata": {},
   "outputs": [
    {
     "name": "stdout",
     "output_type": "stream",
     "text": [
      "[2 0 1 1 2 0 2 2 0 2 1 2 0 2 1 1 0 1 0 1 2 0 0 1 0 1 0 1 2 2]\n",
      "[2 0 0 0 1 0 1 1 0 1 1 1 0 1 0 0 0 1 0 1 2 0 0 0 0 0 0 0 1 1]\n"
     ]
    }
   ],
   "source": [
    "dist = np.zeros(shape=(k, x_test.shape[0]))\n",
    "for i in range(k):\n",
    "    dist[i] = np.sqrt(np.sum((x_test - centroid[i]) ** 2, axis=1))\n",
    "membership = np.argmin(dist, axis=0)\n",
    "\n",
    "print(y_test.astype(int))\n",
    "print(membership)"
   ]
  }
 ],
 "metadata": {
  "kernelspec": {
   "display_name": "Python 3",
   "language": "python",
   "name": "python3"
  },
  "language_info": {
   "codemirror_mode": {
    "name": "ipython",
    "version": 3
   },
   "file_extension": ".py",
   "mimetype": "text/x-python",
   "name": "python",
   "nbconvert_exporter": "python",
   "pygments_lexer": "ipython3",
   "version": "3.12.2"
  }
 },
 "nbformat": 4,
 "nbformat_minor": 2
}
